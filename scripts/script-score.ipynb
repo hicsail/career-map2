{
 "cells": [
  {
   "cell_type": "code",
   "execution_count": 1,
   "metadata": {},
   "outputs": [],
   "source": [
    "import pandas as pd\n",
    "\n",
    "df = pd.read_excel('../data/states-score-data.xlsx', \"2. Data\")"
   ]
  },
  {
   "cell_type": "code",
   "execution_count": 2,
   "metadata": {},
   "outputs": [
    {
     "data": {
      "text/plain": [
       "['Launching Future Ready Youth',\n",
       " 'Navigating into Adulthood 1: Postsecondary outcomes',\n",
       " 'Navigating into Adulthood 2: Young Adults Deserve a Brighter Future (19-27yrs, 2021)',\n",
       " 'Social mobility 2021 (34-36yrs)',\n",
       " 'OVERALL SCORE']"
      ]
     },
     "execution_count": 2,
     "metadata": {},
     "output_type": "execute_result"
    }
   ],
   "source": [
    "categories = filter(lambda x: not 'Unnamed' in x, df.columns)\n",
    "indicatorGroups = list(categories)\n",
    "indicatorGroups"
   ]
  },
  {
   "cell_type": "code",
   "execution_count": 3,
   "metadata": {},
   "outputs": [],
   "source": [
    "data = df.drop([0, 1])\n",
    "data.columns = df.iloc[1]\n",
    "newColNames = list(data.columns)\n",
    "for i in range(len(newColNames)):\n",
    "    if \"cr score (standardized)\" in newColNames[i].lower():\n",
    "        newColNames[i] = \"CR Score (Standardized)\"\n",
    "\n",
    "data.columns = newColNames"
   ]
  },
  {
   "cell_type": "code",
   "execution_count": 4,
   "metadata": {},
   "outputs": [],
   "source": [
    "colMap = {\n",
    "    \"50 States\": \"states\",\n",
    "    \"RANK\": \"rank\",\n",
    "    \"Rank\": \"rank\",\n",
    "    \"Rank (based on CR score 1 and 2)\": \"rank_cr12\",\n",
    "    \"Rank (based on CR score 3)\": \"rank_cr3\",\n",
    "    \"Elementary/Middle School Counselor Ratio 2020-21\": \"ele_mid_counselor_ratio\",\n",
    "    \"High School Counselor Ratio 2020-21\": \"high_counselor_ratio\",\n",
    "    \"AP Test Performance of 3 or Higher (2020) (%)\": \"ap\",\n",
    "    \"Fafsa Completion Rate (%) 2021-22\": \"fafsa\",\n",
    "    \"HS Completion Rate (%) 2018-19 (Cohort based)\": \"hs_completion\",\n",
    "    \"Post HS Placement - college (%) 2018-19 (Cohort based)\": \"post_hs_college\",\n",
    "    \"Retention rate PT (%) 2019-20\": \"retention_pt\",\n",
    "    \"Retention rate FT (%) 2019-20\": \"retention_ft\",\n",
    "    \"PS completion (2 years) (%) 2019-20\": \"ps_completion_2y\",\n",
    "    \"PS completion (4 years) (%) 2019-20\": \"ps_completion_4y\",\n",
    "    \"Disconnected youth (%)\": \"disconnected\",\n",
    "    \"Median hourly wage of Non-NEET youth($)\": \"non_neet_wage\",\n",
    "    \"Non-NEET earning more than state's living wage (%)\": \"non_neet_living_wage\",\n",
    "    \"Median hourly wage of all adult ($)\": \"adult_wage\",\n",
    "    \"Adults working full time (1820h) (%)\": \"adult_full_time\",\n",
    "    \"Full time adults earning more than MIT wage (%)\": \"adult_mit_wage\",\n",
    "    \"CR Score (Standardized)\": \"cr_score\",\n",
    "    \"CR Score (0~100 score)\": \"cr_score100\",\n",
    "    \"CR Score 1 (average of 4 standardized scores)\": \"cr_score1\",\n",
    "    \"CR Score 2 (0~100 score from CR score 1)\": \"cr_score2\",\n",
    "    \"CR Score 3 (0~100 score by averaging four 0~100 scores)\": \"cr_score3\",\n",
    "}\n",
    "\n",
    "stateAbbrMap = {\n",
    "    \"Alabama\": \"AL\",\n",
    "    \"Alaska\": \"AK\",\n",
    "    \"Arizona\": \"AZ\",\n",
    "    \"Arkansas\": \"AR\",\n",
    "    \"California\": \"CA\",\n",
    "    \"Colorado\": \"CO\",\n",
    "    \"Connecticut\": \"CT\",\n",
    "    \"Delaware\": \"DE\",\n",
    "    \"Florida\": \"FL\",\n",
    "    \"Georgia\": \"GA\",\n",
    "    \"Hawaii\": \"HI\",\n",
    "    \"Idaho\": \"ID\",\n",
    "    \"Illinois\": \"IL\",\n",
    "    \"Indiana\": \"IN\",\n",
    "    \"Iowa\": \"IA\",\n",
    "    \"Kansas\": \"KS\",\n",
    "    \"Kentucky\": \"KY\",\n",
    "    \"Louisiana\": \"LA\",\n",
    "    \"Maine\": \"ME\",\n",
    "    \"Maryland\": \"MD\",\n",
    "    \"Massachusetts\": \"MA\",\n",
    "    \"Michigan\": \"MI\",\n",
    "    \"Minnesota\": \"MN\",\n",
    "    \"Mississippi\": \"MS\",\n",
    "    \"Missouri\": \"MO\",\n",
    "    \"Montana\": \"MT\",\n",
    "    \"Nebraska\": \"NE\",\n",
    "    \"Nevada\": \"NV\",\n",
    "    \"New Hampshire\": \"NH\",\n",
    "    \"New Jersey\": \"NJ\",\n",
    "    \"New Mexico\": \"NM\",\n",
    "    \"New York\": \"NY\",\n",
    "    \"North Carolina\": \"NC\",\n",
    "    \"North Dakota\": \"ND\",\n",
    "    \"Ohio\": \"OH\",\n",
    "    \"Oklahoma\": \"OK\",\n",
    "    \"Oregon\": \"OR\",\n",
    "    \"Pennsylvania\": \"PA\",\n",
    "    \"Rhode Island\": \"RI\",\n",
    "    \"South Carolina\": \"SC\",\n",
    "    \"South Dakota\": \"SD\",\n",
    "    \"Tennessee\": \"TN\",\n",
    "    \"Texas\": \"TX\",\n",
    "    \"Utah\": \"UT\",\n",
    "    \"Vermont\": \"VT\",\n",
    "    \"Virginia\": \"VA\",\n",
    "    \"Washington\": \"WA\",\n",
    "    \"West Virginia\": \"WV\",\n",
    "    \"Wisconsin\": \"WI\",\n",
    "    \"Wyoming\": \"WY\",\n",
    "    \"District of Columbia (DC)\": \"DC\",\n",
    "    \"American Samoa\": \"AS\",\n",
    "    \"Guam\": \"GU\",\n",
    "    \"Northern Mariana Islands\": \"MP\",\n",
    "    \"Puerto Rico\": \"PR\",\n",
    "    \"United States Minor Outlying Islands\": \"UM\",\n",
    "    \"U.S. Virgin Islands\": \"VI\",\n",
    "}"
   ]
  },
  {
   "cell_type": "code",
   "execution_count": 5,
   "metadata": {},
   "outputs": [],
   "source": [
    "dataCols = list(data.columns)\n",
    "for col in dataCols:\n",
    "    if \"%\" in col:\n",
    "        data[col] *= 100"
   ]
  },
  {
   "cell_type": "code",
   "execution_count": 6,
   "metadata": {},
   "outputs": [],
   "source": [
    "data.rename(columns=colMap, inplace=True)\n",
    "data.drop(\"cr_score\", axis=1, inplace=True)"
   ]
  },
  {
   "cell_type": "markdown",
   "metadata": {},
   "source": [
    "### Split data into different catagories"
   ]
  },
  {
   "cell_type": "code",
   "execution_count": 7,
   "metadata": {},
   "outputs": [],
   "source": [
    "dfReadyYouth = data.iloc[:, 0:9]\n",
    "dfAdulthood1 = data.iloc[:, ([0] + list(range(9, 15)))]\n",
    "dfAdulthood2 = data.iloc[:, ([0] + list(range(15, 20)))]\n",
    "dfSocial = data.iloc[:, ([0] + list(range(20, 25)))]\n",
    "dfOverall = data.iloc[:, ([0] + list(range(25, 30)))]\n"
   ]
  },
  {
   "cell_type": "code",
   "execution_count": 8,
   "metadata": {},
   "outputs": [
    {
     "data": {
      "text/html": [
       "<div>\n",
       "<style scoped>\n",
       "    .dataframe tbody tr th:only-of-type {\n",
       "        vertical-align: middle;\n",
       "    }\n",
       "\n",
       "    .dataframe tbody tr th {\n",
       "        vertical-align: top;\n",
       "    }\n",
       "\n",
       "    .dataframe thead th {\n",
       "        text-align: right;\n",
       "    }\n",
       "</style>\n",
       "<table border=\"1\" class=\"dataframe\">\n",
       "  <thead>\n",
       "    <tr style=\"text-align: right;\">\n",
       "      <th></th>\n",
       "      <th>states</th>\n",
       "      <th>rank</th>\n",
       "      <th>ele_mid_counselor_ratio</th>\n",
       "      <th>high_counselor_ratio</th>\n",
       "      <th>ap</th>\n",
       "      <th>fafsa</th>\n",
       "      <th>hs_completion</th>\n",
       "      <th>post_hs_college</th>\n",
       "      <th>cr_score100</th>\n",
       "    </tr>\n",
       "  </thead>\n",
       "  <tbody>\n",
       "    <tr>\n",
       "      <th>2</th>\n",
       "      <td>Massachusetts</td>\n",
       "      <td>4</td>\n",
       "      <td>546.6</td>\n",
       "      <td>191.15</td>\n",
       "      <td>73.0</td>\n",
       "      <td>69.3</td>\n",
       "      <td>88.0</td>\n",
       "      <td>68.0</td>\n",
       "      <td>85.960714</td>\n",
       "    </tr>\n",
       "    <tr>\n",
       "      <th>3</th>\n",
       "      <td>Connecticut</td>\n",
       "      <td>3</td>\n",
       "      <td>533.27</td>\n",
       "      <td>182.07</td>\n",
       "      <td>75.0</td>\n",
       "      <td>70.0</td>\n",
       "      <td>89.0</td>\n",
       "      <td>71.0</td>\n",
       "      <td>95.082895</td>\n",
       "    </tr>\n",
       "    <tr>\n",
       "      <th>4</th>\n",
       "      <td>New Jersey</td>\n",
       "      <td>5</td>\n",
       "      <td>1048.43</td>\n",
       "      <td>296.13</td>\n",
       "      <td>75.0</td>\n",
       "      <td>72.9</td>\n",
       "      <td>91.0</td>\n",
       "      <td>68.0</td>\n",
       "      <td>80.199971</td>\n",
       "    </tr>\n",
       "    <tr>\n",
       "      <th>5</th>\n",
       "      <td>New Hampshire</td>\n",
       "      <td>1</td>\n",
       "      <td>215.44</td>\n",
       "      <td>159.67</td>\n",
       "      <td>74.0</td>\n",
       "      <td>64.3</td>\n",
       "      <td>88.0</td>\n",
       "      <td>60.0</td>\n",
       "      <td>100</td>\n",
       "    </tr>\n",
       "    <tr>\n",
       "      <th>6</th>\n",
       "      <td>Rhode Island</td>\n",
       "      <td>11</td>\n",
       "      <td>1486.21</td>\n",
       "      <td>160.94</td>\n",
       "      <td>65.0</td>\n",
       "      <td>71.1</td>\n",
       "      <td>84.0</td>\n",
       "      <td>68.0</td>\n",
       "      <td>68.935111</td>\n",
       "    </tr>\n",
       "  </tbody>\n",
       "</table>\n",
       "</div>"
      ],
      "text/plain": [
       "          states rank ele_mid_counselor_ratio high_counselor_ratio    ap  \\\n",
       "2  Massachusetts    4                   546.6               191.15  73.0   \n",
       "3    Connecticut    3                  533.27               182.07  75.0   \n",
       "4     New Jersey    5                 1048.43               296.13  75.0   \n",
       "5  New Hampshire    1                  215.44               159.67  74.0   \n",
       "6   Rhode Island   11                 1486.21               160.94  65.0   \n",
       "\n",
       "  fafsa hs_completion post_hs_college cr_score100  \n",
       "2  69.3          88.0            68.0   85.960714  \n",
       "3  70.0          89.0            71.0   95.082895  \n",
       "4  72.9          91.0            68.0   80.199971  \n",
       "5  64.3          88.0            60.0         100  \n",
       "6  71.1          84.0            68.0   68.935111  "
      ]
     },
     "execution_count": 8,
     "metadata": {},
     "output_type": "execute_result"
    }
   ],
   "source": [
    "dfReadyYouth.head()"
   ]
  },
  {
   "cell_type": "code",
   "execution_count": 9,
   "metadata": {},
   "outputs": [],
   "source": [
    "def getProp(df):\n",
    "    prop = {}\n",
    "    for state in data[\"states\"].tolist():\n",
    "        prop[state] = {}\n",
    "        for col in df.columns[1:]:\n",
    "            val = df[df[\"states\"] == state][col].tolist()[0]\n",
    "            if pd.isna(val):\n",
    "                prop[state][col] = None\n",
    "            else:\n",
    "                prop[state][col] = val\n",
    "\n",
    "    return prop\n",
    "\n",
    "propReadyYouth = getProp(dfReadyYouth)\n",
    "propAdultHood1 = getProp(dfAdulthood1)\n",
    "propAdultHood2 = getProp(dfAdulthood2)\n",
    "propSocial = getProp(dfSocial)\n",
    "propOverall = getProp(dfOverall)"
   ]
  },
  {
   "cell_type": "code",
   "execution_count": 10,
   "metadata": {},
   "outputs": [],
   "source": [
    "props = {}\n",
    "for state in data[\"states\"].tolist():\n",
    "    props[state] = {\n",
    "        \"name\": state,\n",
    "        \"abbr\": stateAbbrMap[state],\n",
    "        \"youth\": propReadyYouth[state],\n",
    "        \"adulthood1\": propAdultHood1[state],\n",
    "        \"adulthood2\": propAdultHood2[state],\n",
    "        \"social\": propSocial[state],\n",
    "        \"overall\": propOverall[state]\n",
    "    }\n"
   ]
  },
  {
   "cell_type": "markdown",
   "metadata": {},
   "source": [
    "### Get States Polygon Coordinates"
   ]
  },
  {
   "cell_type": "code",
   "execution_count": 11,
   "metadata": {},
   "outputs": [],
   "source": [
    "import json\n",
    "\n",
    "statesCoors = {}\n",
    "file = open(\"../data/states-coors.json\", \"r\")\n",
    "jsonData = json.load(file)\n",
    "\n",
    "for feat in jsonData[\"features\"]:\n",
    "    statesCoors[feat[\"properties\"][\"NAME\"]] = feat[\"geometry\"]\n"
   ]
  },
  {
   "cell_type": "markdown",
   "metadata": {},
   "source": [
    "### Convert Data to GeoJSON"
   ]
  },
  {
   "cell_type": "code",
   "execution_count": 12,
   "metadata": {},
   "outputs": [],
   "source": [
    "geoJson = {\"type\": \"FeatureCollection\", \"features\": []}\n",
    "\n",
    "for state in data[\"states\"].tolist():\n",
    "    geoJson[\"features\"].append({\n",
    "        \"type\": \"Feature\",\n",
    "        \"properties\": props[state],\n",
    "        \"geometry\": statesCoors[state]\n",
    "    })\n"
   ]
  },
  {
   "cell_type": "code",
   "execution_count": 13,
   "metadata": {},
   "outputs": [],
   "source": [
    "with open(\"../data/states-careers-score.json\", \"w\") as outfile:\n",
    "    json.dump(geoJson, outfile)"
   ]
  }
 ],
 "metadata": {
  "kernelspec": {
   "display_name": "Python 3",
   "language": "python",
   "name": "python3"
  },
  "language_info": {
   "codemirror_mode": {
    "name": "ipython",
    "version": 3
   },
   "file_extension": ".py",
   "mimetype": "text/x-python",
   "name": "python",
   "nbconvert_exporter": "python",
   "pygments_lexer": "ipython3",
   "version": "3.11.2"
  },
  "orig_nbformat": 4
 },
 "nbformat": 4,
 "nbformat_minor": 2
}
