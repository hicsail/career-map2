{
 "cells": [
  {
   "cell_type": "code",
   "execution_count": null,
   "metadata": {},
   "outputs": [],
   "source": [
    "import pandas as pd\n",
    "\n",
    "df = pd.read_excel('../data/states-score-data.xlsx', \"2. Data\")"
   ]
  },
  {
   "cell_type": "code",
   "execution_count": null,
   "metadata": {},
   "outputs": [],
   "source": [
    "categories = filter(lambda x: not 'Unnamed' in x, df.columns)\n",
    "indicatorGroups = list(categories)\n",
    "indicatorGroups"
   ]
  },
  {
   "cell_type": "code",
   "execution_count": null,
   "metadata": {},
   "outputs": [],
   "source": [
    "data = df.drop([0, 1])\n",
    "data.columns = df.iloc[1]\n",
    "newColNames = list(data.columns)\n",
    "for i in range(len(newColNames)):\n",
    "    if \"CR Score (Standardized)\" in newColNames[i]:\n",
    "        newColNames[i] = \"CR Score (Standardized)\"\n",
    "\n",
    "data.columns = newColNames"
   ]
  },
  {
   "cell_type": "code",
   "execution_count": null,
   "metadata": {},
   "outputs": [],
   "source": [
    "colMap = {\n",
    "    \"50 States\": \"states\",\n",
    "    \"RANK\": \"rank\",\n",
    "    \"Rank\": \"rank\",\n",
    "    \"Rank (based on CR score 1 and 2)\": \"rank_cr12\",\n",
    "    \"Rank (based on CR score 3)\": \"rank_cr3\",\n",
    "    \"Elementary/Middle School Counselor Ratio 2020-21\": \"ele_mid_counselor_ratio\",\n",
    "    \"High School Counselor Ratio 2020-21\": \"high_counselor_ratio\",\n",
    "    \"AP Test Performance of 3 or Higher (2020) (%)\": \"ap\",\n",
    "    \"Fafsa Completion Rate (%) 2021-22\": \"fafsa\",\n",
    "    \"HS Completion Rate (%) 2018-19 (Cohort based)\": \"hs_completion\",\n",
    "    \"Post HS Placement - college (%) 2018-19 (Cohort based)\": \"post_hs_college\",\n",
    "    \"Retention rate PT (%) 2019-20\": \"retention_pt\",\n",
    "    \"Retention rate FT (%) 2019-20\": \"retention_ft\",\n",
    "    \"PS completion (2 years) (%) 2019-20\": \"ps_completion_2y\",\n",
    "    \"PS completion (4 years) (%) 2019-20\": \"ps_completion_4y\",\n",
    "    \"Disconnected youth (%)\": \"disconnected\",\n",
    "    \"Median hourly wage of Non-NEET youth($)\": \"non_neet_wage\",\n",
    "    \"Non-NEET earning more than state's living wage (%)\": \"non_neet_living_wage\",\n",
    "    \"Median hourly wage of all adult ($)\": \"adult_wage\",\n",
    "    \"Adults working full time (1820h) (%)\": \"adult_full_time\",\n",
    "    \"Full time adults earning more than MIT wage (%)\": \"adult_mit_wage\",\n",
    "    \"CR Score (Standardized)\": \"cr_score\",\n",
    "    \"CR Score (0~100 score)\": \"cr_score100\",\n",
    "    \"CR Score 1 (average of 4 standardized scores)\": \"cr_score1\",\n",
    "    \"CR Score 2 (0~100 score from CR score 1)\": \"cr_score2\",\n",
    "    \"CR Score 3 (0~100 score by averaging four 0~100 scores)\": \"cr_score3\",\n",
    "}\n",
    "\n",
    "stateAbbrMap = {\n",
    "    \"Alabama\": \"AL\",\n",
    "    \"Alaska\": \"AK\",\n",
    "    \"Arizona\": \"AZ\",\n",
    "    \"Arkansas\": \"AR\",\n",
    "    \"California\": \"CA\",\n",
    "    \"Colorado\": \"CO\",\n",
    "    \"Connecticut\": \"CT\",\n",
    "    \"Delaware\": \"DE\",\n",
    "    \"Florida\": \"FL\",\n",
    "    \"Georgia\": \"GA\",\n",
    "    \"Hawaii\": \"HI\",\n",
    "    \"Idaho\": \"ID\",\n",
    "    \"Illinois\": \"IL\",\n",
    "    \"Indiana\": \"IN\",\n",
    "    \"Iowa\": \"IA\",\n",
    "    \"Kansas\": \"KS\",\n",
    "    \"Kentucky\": \"KY\",\n",
    "    \"Louisiana\": \"LA\",\n",
    "    \"Maine\": \"ME\",\n",
    "    \"Maryland\": \"MD\",\n",
    "    \"Massachusetts\": \"MA\",\n",
    "    \"Michigan\": \"MI\",\n",
    "    \"Minnesota\": \"MN\",\n",
    "    \"Mississippi\": \"MS\",\n",
    "    \"Missouri\": \"MO\",\n",
    "    \"Montana\": \"MT\",\n",
    "    \"Nebraska\": \"NE\",\n",
    "    \"Nevada\": \"NV\",\n",
    "    \"New Hampshire\": \"NH\",\n",
    "    \"New Jersey\": \"NJ\",\n",
    "    \"New Mexico\": \"NM\",\n",
    "    \"New York\": \"NY\",\n",
    "    \"North Carolina\": \"NC\",\n",
    "    \"North Dakota\": \"ND\",\n",
    "    \"Ohio\": \"OH\",\n",
    "    \"Oklahoma\": \"OK\",\n",
    "    \"Oregon\": \"OR\",\n",
    "    \"Pennsylvania\": \"PA\",\n",
    "    \"Rhode Island\": \"RI\",\n",
    "    \"South Carolina\": \"SC\",\n",
    "    \"South Dakota\": \"SD\",\n",
    "    \"Tennessee\": \"TN\",\n",
    "    \"Texas\": \"TX\",\n",
    "    \"Utah\": \"UT\",\n",
    "    \"Vermont\": \"VT\",\n",
    "    \"Virginia\": \"VA\",\n",
    "    \"Washington\": \"WA\",\n",
    "    \"West Virginia\": \"WV\",\n",
    "    \"Wisconsin\": \"WI\",\n",
    "    \"Wyoming\": \"WY\",\n",
    "    \"District of Columbia (DC)\": \"DC\",\n",
    "    \"American Samoa\": \"AS\",\n",
    "    \"Guam\": \"GU\",\n",
    "    \"Northern Mariana Islands\": \"MP\",\n",
    "    \"Puerto Rico\": \"PR\",\n",
    "    \"United States Minor Outlying Islands\": \"UM\",\n",
    "    \"U.S. Virgin Islands\": \"VI\",\n",
    "}"
   ]
  },
  {
   "cell_type": "code",
   "execution_count": null,
   "metadata": {},
   "outputs": [],
   "source": [
    "data.rename(columns=colMap, inplace=True)\n",
    "data.drop(\"cr_score\", axis=1, inplace=True)"
   ]
  },
  {
   "cell_type": "markdown",
   "metadata": {},
   "source": [
    "### Split data into different catagories"
   ]
  },
  {
   "cell_type": "code",
   "execution_count": null,
   "metadata": {},
   "outputs": [],
   "source": [
    "dfReadyYouth = data.iloc[:, 0:10]\n",
    "dfAdulthood1 = data.iloc[:, ([0] + list(range(10, 17)))]\n",
    "dfAdulthood2 = data.iloc[:, ([0] + list(range(17, 23)))]\n",
    "dfSocial = data.iloc[:, ([0] + list(range(23, 29)))]\n",
    "dfOverall = data.iloc[:, ([0] + list(range(29, 34)))]\n"
   ]
  },
  {
   "cell_type": "code",
   "execution_count": null,
   "metadata": {},
   "outputs": [],
   "source": [
    "dfReadyYouth.head()"
   ]
  },
  {
   "cell_type": "code",
   "execution_count": null,
   "metadata": {},
   "outputs": [],
   "source": [
    "def getProp(df):\n",
    "    prop = {}\n",
    "    for state in data[\"states\"].tolist():\n",
    "        prop[state] = {}\n",
    "        for col in df.columns[1:]:\n",
    "            val = df[df[\"states\"] == state][col].tolist()[0]\n",
    "            if pd.isna(val):\n",
    "                prop[state][col] = None\n",
    "            else:\n",
    "                prop[state][col] = val\n",
    "\n",
    "    return prop\n",
    "\n",
    "propReadyYouth = getProp(dfReadyYouth)\n",
    "propAdultHood1 = getProp(dfAdulthood1)\n",
    "propAdultHood2 = getProp(dfAdulthood2)\n",
    "propSocial = getProp(dfSocial)\n",
    "propOverall = getProp(dfOverall)"
   ]
  },
  {
   "cell_type": "code",
   "execution_count": null,
   "metadata": {},
   "outputs": [],
   "source": [
    "props = {}\n",
    "for state in data[\"states\"].tolist():\n",
    "    props[state] = {\n",
    "        \"name\": state,\n",
    "        \"abbr\": stateAbbrMap[state],\n",
    "        \"youth\": propReadyYouth[state],\n",
    "        \"adulthood1\": propAdultHood1[state],\n",
    "        \"adulthood2\": propAdultHood2[state],\n",
    "        \"social\": propSocial[state],\n",
    "        \"overall\": propOverall[state]\n",
    "    }\n"
   ]
  },
  {
   "cell_type": "markdown",
   "metadata": {},
   "source": [
    "### Get States Polygon Coordinates"
   ]
  },
  {
   "cell_type": "code",
   "execution_count": null,
   "metadata": {},
   "outputs": [],
   "source": [
    "import json\n",
    "\n",
    "statesCoors = {}\n",
    "file = open(\"../data/states-coors.json\", \"r\")\n",
    "jsonData = json.load(file)\n",
    "\n",
    "for feat in jsonData[\"features\"]:\n",
    "    statesCoors[feat[\"properties\"][\"NAME\"]] = feat[\"geometry\"]\n"
   ]
  },
  {
   "cell_type": "markdown",
   "metadata": {},
   "source": [
    "### Convert Data to GeoJSON"
   ]
  },
  {
   "cell_type": "code",
   "execution_count": null,
   "metadata": {},
   "outputs": [],
   "source": [
    "geoJson = {\"type\": \"FeatureCollection\", \"features\": []}\n",
    "\n",
    "for state in data[\"states\"].tolist():\n",
    "    geoJson[\"features\"].append({\n",
    "        \"type\": \"Feature\",\n",
    "        \"properties\": props[state],\n",
    "        \"geometry\": statesCoors[state]\n",
    "    })\n"
   ]
  },
  {
   "cell_type": "code",
   "execution_count": null,
   "metadata": {},
   "outputs": [],
   "source": [
    "with open(\"../data/states-careers-score.json\", \"w\") as outfile:\n",
    "    json.dump(geoJson, outfile)"
   ]
  }
 ],
 "metadata": {
  "kernelspec": {
   "display_name": "Python 3",
   "language": "python",
   "name": "python3"
  },
  "language_info": {
   "codemirror_mode": {
    "name": "ipython",
    "version": 3
   },
   "file_extension": ".py",
   "mimetype": "text/x-python",
   "name": "python",
   "nbconvert_exporter": "python",
   "pygments_lexer": "ipython3",
   "version": "3.11.2"
  },
  "orig_nbformat": 4
 },
 "nbformat": 4,
 "nbformat_minor": 2
}
